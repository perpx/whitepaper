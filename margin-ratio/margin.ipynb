{
 "cells": [
  {
   "cell_type": "code",
   "execution_count": 2,
   "id": "77717a98",
   "metadata": {},
   "outputs": [],
   "source": [
    "import numpy as np\n",
    "import sys\n",
    "import datetime\n",
    "import matplotlib.pyplot as plt\n",
    "import matplotlib.dates as md\n",
    "np.set_printoptions(threshold=sys.maxsize)"
   ]
  },
  {
   "cell_type": "code",
   "execution_count": 15,
   "id": "df82483c",
   "metadata": {},
   "outputs": [],
   "source": [
    "arr = np.genfromtxt(\"./trade_prices_eth.csv\", delimiter=\",\")\n",
    "tm = np.array([datetime.datetime.fromtimestamp(ts/1000) for ts in arr[:,0]]).reshape(len(arr[:,0]),1)\n",
    "tm = tm[:-10000]\n",
    "prices = arr[:,1].reshape(len(arr[:,1]),1)\n",
    "prices = prices[:-10000]"
   ]
  },
  {
   "cell_type": "code",
   "execution_count": 5,
   "id": "0627f96e",
   "metadata": {},
   "outputs": [
    {
     "data": {
      "image/png": "[encoded data removed]",
      "text/plain": [
       "<Figure size 432x288 with 1 Axes>"
      ]
     },
     "metadata": {
      "needs_background": "light"
     },
     "output_type": "display_data"
    }
   ],
   "source": [
    "plt.plot(tm, prices)\n",
    "plt.ylabel(\"ETH Price\")\n",
    "plt.xlabel(\"Date\")\n",
    "plt.xticks(rotation=25)\n",
    "xfmt = md.DateFormatter('%Y-%m-%d %H:%M:%S')\n",
    "ax=plt.gca()\n",
    "ax.xaxis.set_major_formatter(xfmt)\n",
    "plt.show()"
   ]
  },
  {
   "cell_type": "code",
   "execution_count": 24,
   "id": "7c7c17a6",
   "metadata": {},
   "outputs": [],
   "source": [
    "#Optimisation method for time window and multiplication factor:\n",
    "# - Calculate std = sqrt(Mean(log(Pt/Pt-1)**2)) for a certain time window, shifting the window over the whole 1 year period\n",
    "# - Multiply by k\n",
    "# - Check that we have for the full 1 year period k*std > log(Pt+1/Pt)"
   ]
  },
  {
   "cell_type": "code",
   "execution_count": 16,
   "id": "2791155f",
   "metadata": {},
   "outputs": [],
   "source": [
    "time_window = 50\n",
    "jump = 5\n",
    "prices_update = prices[::jump]\n",
    "time = tm[::jump]"
   ]
  },
  {
   "cell_type": "code",
   "execution_count": 37,
   "id": "102a69bc",
   "metadata": {},
   "outputs": [
    {
     "name": "stdout",
     "output_type": "stream",
     "text": [
      "current window 25 current k 100\n"
     ]
    },
    {
     "ename": "KeyboardInterrupt",
     "evalue": "",
     "output_type": "error",
     "traceback": [
      "\u001b[0;31m---------------------------------------------------------------------------\u001b[0m",
      "\u001b[0;31mKeyboardInterrupt\u001b[0m                         Traceback (most recent call last)",
      "Input \u001b[0;32mIn [37]\u001b[0m, in \u001b[0;36m<cell line: 6>\u001b[0;34m()\u001b[0m\n\u001b[1;32m      8\u001b[0m \u001b[38;5;28mprint\u001b[39m(\u001b[38;5;124m\"\u001b[39m\u001b[38;5;124mcurrent window\u001b[39m\u001b[38;5;124m\"\u001b[39m, time_window, \u001b[38;5;124m\"\u001b[39m\u001b[38;5;124mcurrent k\u001b[39m\u001b[38;5;124m\"\u001b[39m, k)\n\u001b[1;32m      9\u001b[0m ratio \u001b[38;5;241m=\u001b[39m \u001b[38;5;28mint\u001b[39m(time_window \u001b[38;5;241m/\u001b[39m jump)\n\u001b[0;32m---> 10\u001b[0m stds \u001b[38;5;241m=\u001b[39m [\n\u001b[1;32m     11\u001b[0m     np\u001b[38;5;241m.\u001b[39msqrt(np\u001b[38;5;241m.\u001b[39mmean((np\u001b[38;5;241m.\u001b[39mlog(prices_update[i\u001b[38;5;241m-\u001b[39mratio\u001b[38;5;241m+\u001b[39m\u001b[38;5;241m1\u001b[39m:i\u001b[38;5;241m+\u001b[39m\u001b[38;5;241m1\u001b[39m]\u001b[38;5;241m/\u001b[39mprices_update[i\u001b[38;5;241m-\u001b[39mratio:i]))\u001b[38;5;241m*\u001b[39m\u001b[38;5;241m*\u001b[39m\u001b[38;5;241m2\u001b[39m)) \n\u001b[1;32m     12\u001b[0m         \u001b[38;5;28;01mfor\u001b[39;00m i \u001b[38;5;129;01min\u001b[39;00m \u001b[38;5;28mrange\u001b[39m(ratio, \u001b[38;5;28mlen\u001b[39m(prices_update)\u001b[38;5;241m-\u001b[39m\u001b[38;5;241m1\u001b[39m)\n\u001b[1;32m     13\u001b[0m ]\n\u001b[1;32m     14\u001b[0m stds \u001b[38;5;241m=\u001b[39m np\u001b[38;5;241m.\u001b[39marray(stds)\u001b[38;5;241m.\u001b[39mreshape(\u001b[38;5;28mlen\u001b[39m(stds),\u001b[38;5;241m1\u001b[39m)\n\u001b[1;32m     15\u001b[0m returns \u001b[38;5;241m=\u001b[39m np\u001b[38;5;241m.\u001b[39mabs(np\u001b[38;5;241m.\u001b[39mlog(prices_updates_next[ratio\u001b[38;5;241m-\u001b[39m\u001b[38;5;241m1\u001b[39m:]\u001b[38;5;241m/\u001b[39mprices_update_current[ratio\u001b[38;5;241m-\u001b[39m\u001b[38;5;241m1\u001b[39m:]))\n",
      "Input \u001b[0;32mIn [37]\u001b[0m, in \u001b[0;36m<listcomp>\u001b[0;34m(.0)\u001b[0m\n\u001b[1;32m      8\u001b[0m \u001b[38;5;28mprint\u001b[39m(\u001b[38;5;124m\"\u001b[39m\u001b[38;5;124mcurrent window\u001b[39m\u001b[38;5;124m\"\u001b[39m, time_window, \u001b[38;5;124m\"\u001b[39m\u001b[38;5;124mcurrent k\u001b[39m\u001b[38;5;124m\"\u001b[39m, k)\n\u001b[1;32m      9\u001b[0m ratio \u001b[38;5;241m=\u001b[39m \u001b[38;5;28mint\u001b[39m(time_window \u001b[38;5;241m/\u001b[39m jump)\n\u001b[1;32m     10\u001b[0m stds \u001b[38;5;241m=\u001b[39m [\n\u001b[0;32m---> 11\u001b[0m     np\u001b[38;5;241m.\u001b[39msqrt(np\u001b[38;5;241m.\u001b[39mmean((np\u001b[38;5;241m.\u001b[39mlog(\u001b[43mprices_update\u001b[49m\u001b[43m[\u001b[49m\u001b[43mi\u001b[49m\u001b[38;5;241;43m-\u001b[39;49m\u001b[43mratio\u001b[49m\u001b[38;5;241;43m+\u001b[39;49m\u001b[38;5;241;43m1\u001b[39;49m\u001b[43m:\u001b[49m\u001b[43mi\u001b[49m\u001b[38;5;241;43m+\u001b[39;49m\u001b[38;5;241;43m1\u001b[39;49m\u001b[43m]\u001b[49m\u001b[38;5;241;43m/\u001b[39;49m\u001b[43mprices_update\u001b[49m\u001b[43m[\u001b[49m\u001b[43mi\u001b[49m\u001b[38;5;241;43m-\u001b[39;49m\u001b[43mratio\u001b[49m\u001b[43m:\u001b[49m\u001b[43mi\u001b[49m\u001b[43m]\u001b[49m))\u001b[38;5;241m*\u001b[39m\u001b[38;5;241m*\u001b[39m\u001b[38;5;241m2\u001b[39m)) \n\u001b[1;32m     12\u001b[0m         \u001b[38;5;28;01mfor\u001b[39;00m i \u001b[38;5;129;01min\u001b[39;00m \u001b[38;5;28mrange\u001b[39m(ratio, \u001b[38;5;28mlen\u001b[39m(prices_update)\u001b[38;5;241m-\u001b[39m\u001b[38;5;241m1\u001b[39m)\n\u001b[1;32m     13\u001b[0m ]\n\u001b[1;32m     14\u001b[0m stds \u001b[38;5;241m=\u001b[39m np\u001b[38;5;241m.\u001b[39marray(stds)\u001b[38;5;241m.\u001b[39mreshape(\u001b[38;5;28mlen\u001b[39m(stds),\u001b[38;5;241m1\u001b[39m)\n\u001b[1;32m     15\u001b[0m returns \u001b[38;5;241m=\u001b[39m np\u001b[38;5;241m.\u001b[39mabs(np\u001b[38;5;241m.\u001b[39mlog(prices_updates_next[ratio\u001b[38;5;241m-\u001b[39m\u001b[38;5;241m1\u001b[39m:]\u001b[38;5;241m/\u001b[39mprices_update_current[ratio\u001b[38;5;241m-\u001b[39m\u001b[38;5;241m1\u001b[39m:]))\n",
      "\u001b[0;31mKeyboardInterrupt\u001b[0m: "
     ]
    }
   ],
   "source": [
    "ks = [temp for temp in range(20,30)]\n",
    "time_windows = [time*jump for time in range(5, 12)]\n",
    "min_diff = 10\n",
    "min_k = 0\n",
    "min_window = 0\n",
    "for k in ks:\n",
    "    for time_window in time_windows:\n",
    "        print(\"current window\", time_window, \"current k\", k)\n",
    "        ratio = int(time_window / jump)\n",
    "        skips = time[ratio+1:-1] - time[ratio:-2] < datetime.timedelta(seconds=6)\n",
    "        \n",
    "        stds = [\n",
    "            np.sqrt(np.mean((np.log(prices_update[i-ratio+1:i+1]/prices_update[i-ratio:i]))**2)) \n",
    "                for i in range(ratio, len(prices_update)-2)\n",
    "        ]\n",
    "        stds = np.array(stds).reshape(len(stds),1)\n",
    "        returns = np.abs(np.log(prices_update[ratio+1:-1]/prices_update[ratio:-2]))\n",
    "        diff = np.maximum(k*stds, np.log(1.01)) - returns\n",
    "        minimum = min(diff)\n",
    "        print(\"minimum\", minimum)\n",
    "        if minimum > 0 and min_diff > minimum :\n",
    "            print(\"smallest k\", k)\n",
    "            print(\"window\", time_window)\n",
    "            min_k = k\n",
    "            min_window = time_window\n",
    "            min_diff = minimum"
   ]
  },
  {
   "cell_type": "code",
   "execution_count": 24,
   "id": "3c37d010",
   "metadata": {},
   "outputs": [],
   "source": [
    "# Test and debugging\n",
    "ratio = int(time_window / jump)\n",
    "k = 20\n",
    "skips = time[ratio+1:-1] - time[ratio:-2] < datetime.timedelta(seconds=6)\n",
    "\n",
    "stds = [\n",
    "    np.sqrt(np.mean((np.log(prices_update[i-ratio+1:i+1]/prices_update[i-ratio:i]))**2)) \n",
    "        for i in range(ratio, len(prices_update)-2)\n",
    "]\n",
    "stds = np.array(stds).reshape(len(stds),1)\n",
    "returns = np.abs(np.log(prices_update[ratio+1:-1]/prices_update[ratio:-2]))\n",
    "diff = np.maximum(k*stds[skips], np.log(1.01)) - returns[skips]\n",
    "minimum = min(diff)"
   ]
  },
  {
   "cell_type": "code",
   "execution_count": 27,
   "id": "aec4ad7c",
   "metadata": {},
   "outputs": [
    {
     "name": "stdout",
     "output_type": "stream",
     "text": [
      "(array([3009194]),)\n",
      "PRICE SKIPPED 1200.0189671858275 1181.3894268138151\n",
      "2022-06-24 13:31:49.999000 2022-06-24 13:31:54.999000\n",
      "DIFF -0.0009602334239460133\n"
     ]
    }
   ],
   "source": [
    "print(np.where(diff<0))\n",
    "index = 3009194\n",
    "ret = returns[skips]\n",
    "t = time[ratio:-2][skips]\n",
    "print(\"PRICE SKIPPED\", prices_update[ratio+1:-1][skips][index], prices_update[ratio:-2][skips][index])\n",
    "print(t[index], t[index+1])\n",
    "print(\"DIFF\", diff[index])"
   ]
  },
  {
   "cell_type": "code",
   "execution_count": 10,
   "id": "379728ee",
   "metadata": {},
   "outputs": [],
   "source": [
    "def normal_to_jump(index_normal):\n",
    "    return int(index_normal/5) - ratio"
   ]
  },
  {
   "cell_type": "code",
   "execution_count": 11,
   "id": "beea336d",
   "metadata": {},
   "outputs": [],
   "source": [
    "def jump_to_normal(index_jump):\n",
    "    return (index_jump + ratio) * 5"
   ]
  },
  {
   "cell_type": "code",
   "execution_count": null,
   "id": "1abe1f28",
   "metadata": {},
   "outputs": [],
   "source": []
  }
 ],
 "metadata": {
  "kernelspec": {
   "display_name": "Python 3 (ipykernel)",
   "language": "python",
   "name": "python3"
  },
  "language_info": {
   "codemirror_mode": {
    "name": "ipython",
    "version": 3
   },
   "file_extension": ".py",
   "mimetype": "text/x-python",
   "name": "python",
   "nbconvert_exporter": "python",
   "pygments_lexer": "ipython3",
   "version": "3.8.9"
  }
 },
 "nbformat": 4,
 "nbformat_minor": 5
}
